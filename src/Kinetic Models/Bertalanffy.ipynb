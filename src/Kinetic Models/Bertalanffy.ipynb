{
 "cells": [
  {
   "cell_type": "markdown",
   "metadata": {},
   "source": [
    "<p><center><font size=\"6\"><b>Modelo de Bertalanffy</b></font></center></p>\n",
    "\n",
    "<hr>\n",
    "<p><center><font size=\"4\">$N(t)=A*(1-e^{-K*(t-t_0)})$</font></center></p>\n",
    "<hr>\n",
    "\n",
    "<div id=\"justify\">\n",
    "<p><font size=\"4\"><b>Ejemplo de aplicación</b></font></p>\n",
    "<p><font size=\"3\">Ejemplo 1: La comparación de los modelos de crecimiento y la selección del mejor\n",
    "modelo que describa muy bien cierto fenómeno de crecimiento, junto con su significado\n",
    "de dichos parámetros, son tareas importantes en Biología Pesquera, todos éstos aspectos\n",
    "son útiles para comprender la dinámica del crecimiento en longitud de una población de\n",
    "peces. A continuación se presentan datos de longitud promedio de un mismo tipo de peces\n",
    "en relación con la edad:</font></p>\n",
    "</div>\n",
    "\n",
    "  |Edad (Años) |Longitud (cm)           \n",
    "  |------------|-----------------\n",
    "  |0           |1.89    \n",
    "  |1           |10.16   \n",
    "  |2           |16.17     \n",
    "  |3           |20.53    \n",
    "  |4           |23.70   \n",
    "  |5           |26.00         \n",
    "  |6           |27.67 \n",
    "  |7           |28.88   \n",
    "  |8           |29.76\n",
    "  |9           |30.40\n",
    "  |10          |30.87 \n",
    "  |11          |31.20\n",
    "  |12          |31.45\n",
    "  |13          |31.63\n",
    "  |14          |31.76\n",
    "  |15          |31.85"
   ]
  },
  {
   "cell_type": "code",
   "execution_count": 1,
   "metadata": {},
   "outputs": [
    {
     "name": "stderr",
     "output_type": "stream",
     "text": [
      "\u001b[1m\u001b[36mINFO: \u001b[39m\u001b[22m\u001b[36mPrecompiling module Reactive.\n",
      "\u001b[39m\u001b[1m\u001b[36mINFO: \u001b[39m\u001b[22m\u001b[36mPrecompiling module Interact.\n",
      "\u001b[39m"
     ]
    },
    {
     "data": {
      "text/html": [
       "<div id=\"interact-js-shim\">\n",
       "    <script charset=\"utf-8\">\n",
       "(function (IPython, $, _, MathJax) {\n",
       "    $.event.special.destroyed = {\n",
       "\tremove: function(o) {\n",
       "\t    if (o.handler) {\n",
       "\t\to.handler.apply(this, arguments)\n",
       "\t    }\n",
       "\t}\n",
       "    }\n",
       "\n",
       "    var OutputArea = IPython.version >= \"4.0.0\" ? require(\"notebook/js/outputarea\").OutputArea : IPython.OutputArea;\n",
       "\n",
       "    var redrawValue = function (container, type, val) {\n",
       "\tvar selector = $(\"<div/>\");\n",
       "\tvar oa = new OutputArea(_.extend(selector, {\n",
       "\t    selector: selector,\n",
       "\t    prompt_area: true,\n",
       "\t    events: IPython.events,\n",
       "\t    keyboard_manager: IPython.keyboard_manager\n",
       "\t})); // Hack to work with IPython 2.1.0\n",
       "\n",
       "\tswitch (type) {\n",
       "\tcase \"image/png\":\n",
       "            var _src = 'data:' + type + ';base64,' + val;\n",
       "\t    $(container).find(\"img\").attr('src', _src);\n",
       "\t    break;\n",
       "\tcase \"text/latex\":\n",
       "\t\tif (MathJax){\n",
       "\t\t\tvar math = MathJax.Hub.getAllJax(container)[0];\n",
       "\t\t\tMathJax.Hub.Queue([\"Text\", math, val.replace(/^\\${1,2}|\\${1,2}$/g, '')]);\n",
       "\t\t\tbreak;\n",
       "\t\t}\n",
       "\tdefault:\n",
       "\t    var toinsert = OutputArea.append_map[type].apply(\n",
       "\t\toa, [val, {}, selector]\n",
       "\t    );\n",
       "\t    $(container).empty().append(toinsert.contents());\n",
       "\t    selector.remove();\n",
       "\t}\n",
       "    }\n",
       "\n",
       "\n",
       "    $(document).ready(function() {\n",
       "\tfunction initComm(evt, data) {\n",
       "\t    var comm_manager = data.kernel.comm_manager;\n",
       "        //_.extend(comm_manager.targets, require(\"widgets/js/widget\"))\n",
       "\t    comm_manager.register_target(\"Signal\", function (comm) {\n",
       "            comm.on_msg(function (msg) {\n",
       "                var val = msg.content.data.value;\n",
       "                $(\".signal-\" + comm.comm_id).each(function() {\n",
       "                var type = $(this).data(\"type\");\n",
       "                if (typeof(val[type]) !== \"undefined\" && val[type] !== null) {\n",
       "                    redrawValue(this, type, val[type], type);\n",
       "                }\n",
       "                });\n",
       "                delete val;\n",
       "                delete msg.content.data.value;\n",
       "            });\n",
       "\t    });\n",
       "\n",
       "\t    // coordingate with Comm and redraw Signals\n",
       "\t    // XXX: Test using Reactive here to improve performance\n",
       "\t    $([IPython.events]).on(\n",
       "\t\t'output_appended.OutputArea', function (event, type, value, md, toinsert) {\n",
       "\t\t    if (md && md.reactive) {\n",
       "                // console.log(md.comm_id);\n",
       "                toinsert.addClass(\"signal-\" + md.comm_id);\n",
       "                toinsert.data(\"type\", type);\n",
       "                // Signal back indicating the mimetype required\n",
       "                var comm_manager = IPython.notebook.kernel.comm_manager;\n",
       "                var comm = comm_manager.comms[md.comm_id];\n",
       "                comm.then(function (c) {\n",
       "                    c.send({action: \"subscribe_mime\",\n",
       "                       mime: type});\n",
       "                    toinsert.bind(\"destroyed\", function() {\n",
       "                        c.send({action: \"unsubscribe_mime\",\n",
       "                               mime: type});\n",
       "                    });\n",
       "                })\n",
       "\t\t    }\n",
       "\t    });\n",
       "\t}\n",
       "\n",
       "\ttry {\n",
       "\t    // try to initialize right away. otherwise, wait on the status_started event.\n",
       "\t    initComm(undefined, IPython.notebook);\n",
       "\t} catch (e) {\n",
       "\t    $([IPython.events]).on('kernel_created.Kernel kernel_created.Session', initComm);\n",
       "\t}\n",
       "    });\n",
       "})(IPython, jQuery, _, MathJax);\n",
       "</script>\n",
       "    <script>\n",
       "        window.interactLoadedFlag = true\n",
       "       $(\"#interact-js-shim\").bind(\"destroyed\", function () {\n",
       "           if (window.interactLoadedFlag) {\n",
       "               console.warn(\"JavaScript required by Interact will be removed if you remove this cell or run using Interact more than once.\")\n",
       "           }\n",
       "       })\n",
       "       $([IPython.events]).on(\"kernel_starting.Kernel kernel_restarting.Kernel\", function () { window.interactLoadedFlag = false })\n",
       "   </script>\n",
       "</div>"
      ]
     },
     "metadata": {},
     "output_type": "display_data"
    },
    {
     "data": {
      "application/vnd.jupyter.widget-view+json": {
       "model_id": "23d6e531-d225-4056-a06a-285b2a613020",
       "version_major": 2,
       "version_minor": 0
      }
     },
     "metadata": {},
     "output_type": "display_data"
    },
    {
     "data": {
      "text/html": [],
      "text/plain": [
       "Interact.Slider{Float64}(1: \"input\" = 30.0 Float64 , L\"$A$\", 30.0, 0.0:0.1:100.0, \"horizontal\", true, \".3f\", true)"
      ]
     },
     "metadata": {},
     "output_type": "display_data"
    },
    {
     "data": {
      "application/vnd.jupyter.widget-view+json": {
       "model_id": "67aa6a16-34ed-4c01-836a-629a4db1a276",
       "version_major": 2,
       "version_minor": 0
      }
     },
     "metadata": {},
     "output_type": "display_data"
    },
    {
     "data": {
      "text/html": [],
      "text/plain": [
       "Interact.Slider{Float64}(3: \"input-2\" = 1.2 Float64 , L\"$K$\", 1.2, 0.0:0.1:100.0, \"horizontal\", true, \".3f\", true)"
      ]
     },
     "metadata": {},
     "output_type": "display_data"
    },
    {
     "data": {
      "application/vnd.jupyter.widget-view+json": {
       "model_id": "afe783bf-0353-411d-94c0-0fd9584f9682",
       "version_major": 2,
       "version_minor": 0
      }
     },
     "metadata": {},
     "output_type": "display_data"
    },
    {
     "data": {
      "text/html": [],
      "text/plain": [
       "Interact.Slider{Float64}(5: \"input-3\" = 0.3 Float64 , L\"$t_0$\", 0.3, 0.0:0.1:100.0, \"horizontal\", true, \".3f\", true)"
      ]
     },
     "metadata": {},
     "output_type": "display_data"
    },
    {
     "data": {
      "image/png": "[encoded data removed]"
     },
     "execution_count": 1,
     "metadata": {
      "comm_id": "e4a2ac99-41a8-4093-baa6-fa9736f6d0b7",
      "reactive": true
     },
     "output_type": "execute_result"
    }
   ],
   "source": [
    "# Carga de paquetes a emplear \n",
    "using Reactive, Interact\n",
    "using LaTeXStrings\n",
    "using Plots\n",
    "pyplot()\n",
    "\n",
    "# Datos experimentales\n",
    "datos=[0 1.89\n",
    "    1 10.16\n",
    "    2 16.17\n",
    "    3 20.53\n",
    "    4 23.70\n",
    "    5 26\n",
    "    6 27.67\n",
    "    7 28.88\n",
    "    8 29.76\n",
    "    9 30.40\n",
    "    10 30.87\n",
    "    11 31.20\n",
    "    12 31.45\n",
    "    13 31.63\n",
    "    14 31.76\n",
    "    15 31.85]\n",
    "\n",
    "# Definición de barras deslizadoras interactivas\n",
    "A_s = slider(0.0:0.1:100.0, value=30.0, label=L\"A\")\n",
    "K_s = slider(0.0:0.1:100.0, value=1.2, label=L\"K\")\n",
    "t0_s = slider(0.0:0.1:100.0, value=0.3, label=L\"t_0\")\n",
    "yAjuste = zeros(length(datos[:,1]))\n",
    "\n",
    "# Ciclo interactivo\n",
    "@manipulate for A = A_s, K = K_s, t0 = t0_s\n",
    "    i = 1\n",
    "    for j in datos[:,1]\n",
    "        # Definición del modelo matemático\n",
    "        yAjuste[i] = A*(1-exp(-K*(j-t0)))\n",
    "        i += 1\n",
    "    end\n",
    "    \n",
    "    # SSE (suma de errores al cuadrado)\n",
    "    SSE = sum((yAjuste - datos[:,2]).^2)\n",
    "   \n",
    "    # Gráfica de comparación entre datos experimentales y modelo\n",
    "    pl =scatter(datos[:,1], datos[:,2], label=\"Datos\", box=\"on\")\n",
    "    msg = @sprintf(\"Modelo de Bertalanffy, SSE=%4.4f, r=%4.4f\", SSE,cor(yAjuste,datos[:,2]))\n",
    "    plot!(datos[:,1], yAjuste, label=\"Modelo\", lw=2, xlabel=\"Años\", ylabel = \"Crecimiento\", title=msg)\n",
    "end"
   ]
  },
  {
   "cell_type": "code",
   "execution_count": null,
   "metadata": {},
   "outputs": [
    {
     "name": "stderr",
     "output_type": "stream",
     "text": [
      "\u001b[1m\u001b[36mINFO: \u001b[39m\u001b[22m\u001b[36mPrecompiling module Calculus.\n",
      "\u001b[39m\u001b[1m\u001b[36mINFO: \u001b[39m\u001b[22m\u001b[36mPrecompiling module Distributions.\n",
      "\u001b[39m"
     ]
    }
   ],
   "source": [
    "# Carga de paquetes a emplear \n",
    "using LaTeXStrings\n",
    "using Plots\n",
    "using LsqFit\n",
    "pyplot()\n",
    "\n",
    "# Datos experimentales\n",
    "datos=[0 1.89\n",
    "    1 10.16\n",
    "    2 16.17\n",
    "    3 20.53\n",
    "    4 23.70\n",
    "    5 26\n",
    "    6 27.67\n",
    "    7 28.88\n",
    "    8 29.76\n",
    "    9 30.40\n",
    "    10 30.87\n",
    "    11 31.20\n",
    "    12 31.45\n",
    "    13 31.63\n",
    "    14 31.76\n",
    "    15 31.85]\n",
    "\n",
    "# Definición del modelo matemático\n",
    "model(t, P) = P[1]*(1-exp.(-P[2]*(t-P[3])))\n",
    "\n",
    "# Vector de valores iniciales\n",
    "p0 = [31, 2, 0.5]\n",
    "\n",
    "# Uso de la funcion curve_fit para ajustar el modelo a los datos experimentales\n",
    "fit = curve_fit(model, datos[:,1], datos[:,2], p0)\n",
    "# fit is a composite type (LsqFitResult), with some interesting values:\n",
    "#\tfit.dof: degrees of freedom\n",
    "#\tfit.param: best fit parameters\n",
    "#\tfit.resid: residuals = vector of residuals\n",
    "#\tfit.jacobian: estimated Jacobian at solution\n",
    "\n",
    "# Obtención de datos calculados\n",
    "yAjuste = model(datos[:,1], fit.param)\n",
    "\n",
    "# Gráfica de comparación entre datos experimentales y modelo\n",
    "pl = scatter(datos[:,1], datos[:,2], label=\"Datos\")\n",
    "msg = @sprintf(\"Modelo de Bertalanffy, SSE=%4.4f, r=%4.4f\", sum(fit.resid.^2),cor(yAjuste,datos[:,2]))\n",
    "plot!(datos[:,1], yAjuste, label=\"Modelo\", lw=2, xlabel=\"Años\", ylabel = \"Crecimiento\", title=msg)\n",
    "display(pl)\n",
    "\n",
    "# Impresión de resultados númericos\n",
    "print_with_color(:bold,@sprintf(\"A = %4.4f\\n\",fit.param[1]))\n",
    "print_with_color(:bold,@sprintf(\"K = %4.4f\\n\",fit.param[2]))\n",
    "print_with_color(:bold,@sprintf(\"t0 = %4.4f\\n\",fit.param[3]))\n",
    "print_with_color(:bold,@sprintf(\"SSE = %4.4f\\n\",sum(fit.resid.^2)))\n",
    "print_with_color(:bold,@sprintf(\"r = %4.4f\",cor(yAjuste,datos[:,2])))"
   ]
  },
  {
   "cell_type": "code",
   "execution_count": null,
   "metadata": {
    "collapsed": true
   },
   "outputs": [],
   "source": [
    "plot"
   ]
  }
 ],
 "metadata": {
  "kernelspec": {
   "display_name": "Julia 0.6.4",
   "language": "julia",
   "name": "julia-0.6"
  },
  "language_info": {
   "file_extension": ".jl",
   "mimetype": "application/julia",
   "name": "julia",
   "version": "0.6.4"
  }
 },
 "nbformat": 4,
 "nbformat_minor": 2
}
